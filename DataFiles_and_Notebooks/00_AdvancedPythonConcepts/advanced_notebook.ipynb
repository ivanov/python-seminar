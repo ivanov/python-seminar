{
 "metadata": {
  "name": "advanced_notebook"
 },
 "nbformat": 3,
 "nbformat_minor": 0,
 "worksheets": [
  {
   "cells": [
    {
     "cell_type": "code",
     "collapsed": false,
     "input": [
      "a = {\"cal\": \"wow\", \"stanford\": \"meh\"}\n",
      "b = {\"stanford\": \"meh\", \"cal\": \"wow\"}"
     ],
     "language": "python",
     "metadata": {},
     "outputs": [],
     "prompt_number": 2
    },
    {
     "cell_type": "code",
     "collapsed": false,
     "input": [
      "a == b"
     ],
     "language": "python",
     "metadata": {},
     "outputs": [
      {
       "output_type": "pyout",
       "prompt_number": 3,
       "text": [
        "True"
       ]
      }
     ],
     "prompt_number": 3
    },
    {
     "cell_type": "code",
     "collapsed": false,
     "input": [
      "for k in a.keys(): print k,\n",
      "print \"\\n\" + \"*\"*10\n",
      "for v in a.values(): print v,\n",
      "print \"\\n\" + \"*\"*10\n",
      "for k, v in a.iteritems(): print k, v"
     ],
     "language": "python",
     "metadata": {},
     "outputs": [
      {
       "output_type": "stream",
       "stream": "stdout",
       "text": [
        "stanford cal \n",
        "**********\n",
        "meh wow \n",
        "**********\n",
        "stanford meh\n",
        "cal wow\n"
       ]
      }
     ],
     "prompt_number": 9
    },
    {
     "cell_type": "code",
     "collapsed": false,
     "input": [
      "from collections import OrderedDict"
     ],
     "language": "python",
     "metadata": {},
     "outputs": [],
     "prompt_number": 10
    },
    {
     "cell_type": "code",
     "collapsed": false,
     "input": [
      "c = OrderedDict()"
     ],
     "language": "python",
     "metadata": {},
     "outputs": [],
     "prompt_number": 36
    },
    {
     "cell_type": "code",
     "collapsed": false,
     "input": [
      "type(c)"
     ],
     "language": "python",
     "metadata": {},
     "outputs": [
      {
       "output_type": "pyout",
       "prompt_number": 37,
       "text": [
        "collections.OrderedDict"
       ]
      }
     ],
     "prompt_number": 37
    },
    {
     "cell_type": "code",
     "collapsed": false,
     "input": [
      "c.update({\"best schools\": \"cal\"})\n",
      "c.update({\"worst schools\": \"you know\"})\n",
      "d = OrderedDict({\"worst schools\": \"you know\"})\n",
      "d.update({\"best schools\": \"cal\"})"
     ],
     "language": "python",
     "metadata": {},
     "outputs": [],
     "prompt_number": 38
    },
    {
     "cell_type": "code",
     "collapsed": false,
     "input": [
      "c == d"
     ],
     "language": "python",
     "metadata": {},
     "outputs": [
      {
       "output_type": "pyout",
       "prompt_number": 39,
       "text": [
        "False"
       ]
      }
     ],
     "prompt_number": 39
    },
    {
     "cell_type": "code",
     "collapsed": false,
     "input": [
      "print c\n",
      "print d"
     ],
     "language": "python",
     "metadata": {},
     "outputs": [
      {
       "output_type": "stream",
       "stream": "stdout",
       "text": [
        "OrderedDict([('best schools', 'cal'), ('worst schools', 'you know')])\n",
        "OrderedDict([('worst schools', 'you know'), ('best schools', 'cal')])\n"
       ]
      }
     ],
     "prompt_number": 40
    },
    {
     "cell_type": "code",
     "collapsed": false,
     "input": [
      "c.popitem()"
     ],
     "language": "python",
     "metadata": {},
     "outputs": [
      {
       "output_type": "pyout",
       "prompt_number": 43,
       "text": [
        "('worst schools', 'you know')"
       ]
      }
     ],
     "prompt_number": 43
    },
    {
     "cell_type": "code",
     "collapsed": false,
     "input": [
      "d.popitem()"
     ],
     "language": "python",
     "metadata": {},
     "outputs": [
      {
       "output_type": "pyout",
       "prompt_number": 44,
       "text": [
        "('best schools', 'cal')"
       ]
      }
     ],
     "prompt_number": 44
    },
    {
     "cell_type": "code",
     "collapsed": false,
     "input": [
      "print \"c=\", c\n",
      "print \"d=\", d"
     ],
     "language": "python",
     "metadata": {},
     "outputs": [
      {
       "output_type": "stream",
       "stream": "stdout",
       "text": [
        "c= OrderedDict([('best schools', 'cal')])\n",
        "d= OrderedDict([('worst schools', 'you know')])\n"
       ]
      }
     ],
     "prompt_number": 47
    },
    {
     "cell_type": "markdown",
     "metadata": {},
     "source": [
      "`OrderedDict` has all the same methods as `dict` types but includes the `.popitem()` method (which sort of like doing a `.pop()` on a list without any arguements."
     ]
    },
    {
     "cell_type": "code",
     "collapsed": false,
     "input": [
      "d = OrderedDict()\n",
      "d.update({\"best schools\": \"cal\", \"worst schools\": \"you know\"})\n",
      "e = OrderedDict({\"worst schools\": \"you know\",\"best schools\": \"cal\"})"
     ],
     "language": "python",
     "metadata": {},
     "outputs": [],
     "prompt_number": 94
    },
    {
     "cell_type": "code",
     "collapsed": false,
     "input": [
      "d == e"
     ],
     "language": "python",
     "metadata": {},
     "outputs": [
      {
       "output_type": "pyout",
       "prompt_number": 95,
       "text": [
        "True"
       ]
      }
     ],
     "prompt_number": 95
    },
    {
     "cell_type": "markdown",
     "metadata": {},
     "source": [
      "\"The `OrderedDict` constructor and `update()` method both accept keyword arguments, but their order is lost because Python\u2019s function call semantics pass-in keyword arguments using a regular unordered dictionary.\"\n",
      "\n",
      "http://docs.python.org/library/collections.html#collections.Counter"
     ]
    },
    {
     "cell_type": "code",
     "collapsed": false,
     "input": [
      "# other ways to update OrderedDict\n",
      "d.update(cal=\"I mean wow\", stanford=\"what's French for 'meh'?\")\n",
      "d.update([(\"Famous Isaacs\",[\"Shivvers\",\"Hurricane\"])])\n",
      "print d"
     ],
     "language": "python",
     "metadata": {},
     "outputs": [
      {
       "output_type": "stream",
       "stream": "stdout",
       "text": [
        "OrderedDict([('best schools', 'cal'), ('worst schools', 'you know'), ('stanford', \"what's French for 'meh'?\"), ('cal', 'I mean wow'), ('Famous Isaacs', ['Shivvers', 'Hurricane'])])\n"
       ]
      }
     ],
     "prompt_number": 99
    },
    {
     "cell_type": "code",
     "collapsed": false,
     "input": [
      "## unlike with a dict, the ordering of each pair in the\n",
      "## iteration is gauranteed across platforms. Hurray!\n",
      "for k,v in d.iteritems():\n",
      "    print k, \"=\", v"
     ],
     "language": "python",
     "metadata": {},
     "outputs": [
      {
       "output_type": "stream",
       "stream": "stdout",
       "text": [
        "best schools = cal\n",
        "worst schools = you know\n",
        "stanford = what's French for 'meh'?\n",
        "cal = I mean wow\n",
        "Famous Isaacs = ['Shivvers', 'Hurricane']\n"
       ]
      }
     ],
     "prompt_number": 104
    },
    {
     "cell_type": "code",
     "collapsed": false,
     "input": [],
     "language": "python",
     "metadata": {},
     "outputs": []
    }
   ],
   "metadata": {}
  }
 ]
}