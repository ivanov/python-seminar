{
 "metadata": {
  "name": "advanced_notebook"
 },
 "nbformat": 3,
 "nbformat_minor": 0,
 "worksheets": [
  {
   "cells": [
    {
     "cell_type": "markdown",
     "metadata": {},
     "source": [
      "## OrderedDict ##"
     ]
    },
    {
     "cell_type": "code",
     "collapsed": false,
     "input": [
      "a = {\"cal\": \"wow\", \"stanford\": \"meh\"}\n",
      "b = {\"stanford\": \"meh\", \"cal\": \"wow\"}"
     ],
     "language": "python",
     "metadata": {},
     "outputs": []
    },
    {
     "cell_type": "code",
     "collapsed": false,
     "input": [
      "a == b"
     ],
     "language": "python",
     "metadata": {},
     "outputs": []
    },
    {
     "cell_type": "code",
     "collapsed": false,
     "input": [
      "for k in a.keys(): print k,\n",
      "print \"\\n\" + \"*\"*10\n",
      "for v in a.values(): print v,\n",
      "print \"\\n\" + \"*\"*10\n",
      "for k, v in a.iteritems(): print k, v"
     ],
     "language": "python",
     "metadata": {},
     "outputs": []
    },
    {
     "cell_type": "code",
     "collapsed": false,
     "input": [
      "from collections import OrderedDict"
     ],
     "language": "python",
     "metadata": {},
     "outputs": []
    },
    {
     "cell_type": "code",
     "collapsed": false,
     "input": [
      "c = OrderedDict()"
     ],
     "language": "python",
     "metadata": {},
     "outputs": []
    },
    {
     "cell_type": "code",
     "collapsed": false,
     "input": [
      "type(c)"
     ],
     "language": "python",
     "metadata": {},
     "outputs": []
    },
    {
     "cell_type": "code",
     "collapsed": false,
     "input": [
      "c.update({\"best schools\": \"cal\"})\n",
      "c.update({\"worst schools\": \"you know\"})\n",
      "d = OrderedDict({\"worst schools\": \"you know\"})\n",
      "d.update({\"best schools\": \"cal\"})"
     ],
     "language": "python",
     "metadata": {},
     "outputs": []
    },
    {
     "cell_type": "code",
     "collapsed": false,
     "input": [
      "c == d"
     ],
     "language": "python",
     "metadata": {},
     "outputs": []
    },
    {
     "cell_type": "code",
     "collapsed": false,
     "input": [
      "print c\n",
      "print d"
     ],
     "language": "python",
     "metadata": {},
     "outputs": []
    },
    {
     "cell_type": "code",
     "collapsed": false,
     "input": [
      "c.popitem()"
     ],
     "language": "python",
     "metadata": {},
     "outputs": []
    },
    {
     "cell_type": "code",
     "collapsed": false,
     "input": [
      "d.popitem()"
     ],
     "language": "python",
     "metadata": {},
     "outputs": []
    },
    {
     "cell_type": "code",
     "collapsed": false,
     "input": [
      "print \"c=\", c\n",
      "print \"d=\", d"
     ],
     "language": "python",
     "metadata": {},
     "outputs": []
    },
    {
     "cell_type": "markdown",
     "metadata": {},
     "source": [
      "`OrderedDict` has all the same methods as `dict` types but includes the `.popitem()` method (which sort of like doing a `.pop()` on a list without any arguements."
     ]
    },
    {
     "cell_type": "code",
     "collapsed": false,
     "input": [
      "d = OrderedDict()\n",
      "d.update({\"best schools\": \"cal\", \"worst schools\": \"you know\"})\n",
      "e = OrderedDict({\"worst schools\": \"you know\",\"best schools\": \"cal\"})"
     ],
     "language": "python",
     "metadata": {},
     "outputs": []
    },
    {
     "cell_type": "code",
     "collapsed": false,
     "input": [
      "d == e"
     ],
     "language": "python",
     "metadata": {},
     "outputs": []
    },
    {
     "cell_type": "markdown",
     "metadata": {},
     "source": [
      "\"The `OrderedDict` constructor and `update()` method both accept keyword arguments, but their order is lost because Python\u2019s function call semantics pass-in keyword arguments using a regular unordered dictionary.\"\n",
      "\n",
      "http://docs.python.org/library/collections.html#collections.Counter"
     ]
    },
    {
     "cell_type": "code",
     "collapsed": false,
     "input": [
      "# other ways to update OrderedDict\n",
      "d.update(cal=\"I mean wow\", stanford=\"what's French for 'meh'?\")\n",
      "d.update([(\"Famous Isaacs\",[\"Shivvers\",\"Hurricane\"])])\n",
      "print d"
     ],
     "language": "python",
     "metadata": {},
     "outputs": []
    },
    {
     "cell_type": "code",
     "collapsed": false,
     "input": [
      "## unlike with a dict, the ordering of each pair in the\n",
      "## iteration is gauranteed across platforms. Hurray!\n",
      "for k,v in d.iteritems():\n",
      "    print k, \"=\", v"
     ],
     "language": "python",
     "metadata": {},
     "outputs": []
    },
    {
     "cell_type": "markdown",
     "metadata": {},
     "source": [
      "## Iterables ##"
     ]
    },
    {
     "cell_type": "code",
     "collapsed": false,
     "input": [
      "a = [\"dog\",\"cat\",\"cheezeberger\"]"
     ],
     "language": "python",
     "metadata": {},
     "outputs": []
    },
    {
     "cell_type": "code",
     "collapsed": false,
     "input": [
      "# this is what is actually getting call by the for call\n",
      "# for x in a: ...\n",
      "b = iter(a)"
     ],
     "language": "python",
     "metadata": {},
     "outputs": []
    },
    {
     "cell_type": "code",
     "collapsed": false,
     "input": [
      "b"
     ],
     "language": "python",
     "metadata": {},
     "outputs": []
    },
    {
     "cell_type": "code",
     "collapsed": false,
     "input": [
      "b.next()"
     ],
     "language": "python",
     "metadata": {},
     "outputs": []
    },
    {
     "cell_type": "code",
     "collapsed": false,
     "input": [
      "b.next()"
     ],
     "language": "python",
     "metadata": {},
     "outputs": []
    },
    {
     "cell_type": "code",
     "collapsed": false,
     "input": [
      "b.next()"
     ],
     "language": "python",
     "metadata": {},
     "outputs": []
    },
    {
     "cell_type": "code",
     "collapsed": false,
     "input": [
      "b.next()"
     ],
     "language": "python",
     "metadata": {},
     "outputs": []
    },
    {
     "cell_type": "markdown",
     "metadata": {},
     "source": [
      "## Itertools ##"
     ]
    },
    {
     "cell_type": "code",
     "collapsed": false,
     "input": [
      "import itertools"
     ],
     "language": "python",
     "metadata": {},
     "outputs": []
    },
    {
     "cell_type": "code",
     "collapsed": false,
     "input": [
      "## chain many iterables together\n",
      "a = itertools.chain((x**2 for x in xrange(3)), (x**3 for x in xrange(3)))"
     ],
     "language": "python",
     "metadata": {},
     "outputs": []
    },
    {
     "cell_type": "code",
     "collapsed": false,
     "input": [
      "for x in a: \n",
      "    print x,"
     ],
     "language": "python",
     "metadata": {},
     "outputs": []
    },
    {
     "cell_type": "code",
     "collapsed": false,
     "input": [
      "print a\n",
      "print hasattr(a,\"next\")\n",
      "print hasattr(a,\"__iter__\")"
     ],
     "language": "python",
     "metadata": {},
     "outputs": []
    },
    {
     "cell_type": "code",
     "collapsed": false,
     "input": [
      "for x in itertools.combinations([\"dog\",\"cat\",\"cheezberger\"], 2): print x, "
     ],
     "language": "python",
     "metadata": {},
     "outputs": []
    },
    {
     "cell_type": "code",
     "collapsed": false,
     "input": [
      "for x in itertools.permutations([\"dog\",\"cat\",\"cheezberger\"]): print x, "
     ],
     "language": "python",
     "metadata": {},
     "outputs": []
    },
    {
     "cell_type": "code",
     "collapsed": false,
     "input": [],
     "language": "python",
     "metadata": {},
     "outputs": []
    }
   ],
   "metadata": {}
  }
 ]
}